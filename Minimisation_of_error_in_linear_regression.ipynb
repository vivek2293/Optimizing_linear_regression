{
 "cells": [
  {
   "cell_type": "markdown",
   "id": "bc060b89",
   "metadata": {},
   "source": [
    "# Initial data"
   ]
  },
  {
   "cell_type": "code",
   "execution_count": 1,
   "id": "92c1842d",
   "metadata": {},
   "outputs": [],
   "source": [
    "X = [2, 4, 6, 8]\n",
    "Y = [3, 7, 5, 10]"
   ]
  },
  {
   "cell_type": "markdown",
   "id": "fba1ff35",
   "metadata": {},
   "source": [
    "# Function to get new parameter values"
   ]
  },
  {
   "cell_type": "code",
   "execution_count": 2,
   "id": "753a88d2",
   "metadata": {},
   "outputs": [],
   "source": [
    "def get_new_values(m, c, y, x, alpha):\n",
    "    # m - (2/n)*(alpha)*(m*xi + c - yi).(xi)\n",
    "    # c - (2/n)*(alpha)*(m*xi + c - yi)\n",
    "    # Here, (m*xi + c is the predicted value)\n",
    "    \n",
    "    n = len(x)\n",
    "    diff_m = 0\n",
    "    diff_c = 0\n",
    "    for i in range (0, n):\n",
    "        diff_m += (2/n)*(alpha)*(m*x[i] + c - y[i])*(x[i])\n",
    "        diff_c += (2/n)*(alpha)*(m*x[i] + c - y[i])\n",
    "    \n",
    "    new_m = m - diff_m\n",
    "    new_c = c - diff_c\n",
    "    \n",
    "    return new_m, new_c"
   ]
  },
  {
   "cell_type": "markdown",
   "id": "ca916c29",
   "metadata": {},
   "source": [
    "# Function to calculate mean square error"
   ]
  },
  {
   "cell_type": "code",
   "execution_count": 3,
   "id": "160ef16a",
   "metadata": {},
   "outputs": [],
   "source": [
    "def calc_mean_square_error(m, c, y, x):\n",
    "    n = len(x)\n",
    "    error = 0\n",
    "    for i in range(0, n):\n",
    "        error += (1/n)*((m*x[i] + c - y[i])*(m*x[i] + c - y[i]))\n",
    "        \n",
    "    return error"
   ]
  },
  {
   "cell_type": "markdown",
   "id": "5d3c7b6f",
   "metadata": {},
   "source": [
    "# Function to check if the new value overshoots"
   ]
  },
  {
   "cell_type": "code",
   "execution_count": 4,
   "id": "54505aff",
   "metadata": {},
   "outputs": [],
   "source": [
    "def is_overshooting(initial_value_m, initial_value_c, new_value_m, new_value_c, Y, X):\n",
    "    initial_error = calc_mean_square_error(initial_value_m, initial_value_c, Y, X);\n",
    "    new_error = calc_mean_square_error(new_value_m, new_value_c, Y, X)\n",
    "    \n",
    "    return (new_error >= initial_error)"
   ]
  },
  {
   "cell_type": "markdown",
   "id": "6cfec4dd",
   "metadata": {},
   "source": [
    "# Binary search to get to global minima as fast as possible"
   ]
  },
  {
   "cell_type": "code",
   "execution_count": 5,
   "id": "3f56d8f3",
   "metadata": {},
   "outputs": [],
   "source": [
    "value_m = 0; value_c = 0;\n",
    "error = calc_mean_square_error(value_m, value_c, Y, X);\n",
    "\n",
    "error_arr = []\n",
    "slope_arr = []\n",
    "error_arr.append(error)\n",
    "slope_arr.append(value_m)\n",
    "\n",
    "alpha = 1\n",
    "tolerance = 1e-15\n",
    "while(alpha > tolerance):\n",
    "    new_value_m, new_value_c = get_new_values(value_m, value_c, Y, X, alpha)\n",
    "    new_error = calc_mean_square_error(new_value_m, new_value_c, Y, X)\n",
    "    \n",
    "    if is_overshooting(value_m, value_c, new_value_m, new_value_c, Y, X):\n",
    "        alpha = alpha/2\n",
    "    else:\n",
    "        error_arr.append(new_error)\n",
    "        slope_arr.append(new_value_m)\n",
    "        value_m = new_value_m\n",
    "        value_c = new_value_c"
   ]
  },
  {
   "cell_type": "markdown",
   "id": "77ed642c",
   "metadata": {},
   "source": [
    "# Claim:"
   ]
  },
  {
   "cell_type": "code",
   "execution_count": 8,
   "id": "30b3101f",
   "metadata": {},
   "outputs": [
    {
     "name": "stdout",
     "output_type": "stream",
     "text": [
      "Minimum mean square error that we can achieve with tolerance (1e-15):  2.175000000000085\n"
     ]
    }
   ],
   "source": [
    "print(\"Minimum mean square error that we can achieve with tolerance (1e-15): \", calc_mean_square_error(value_m, value_c, Y, X));"
   ]
  },
  {
   "cell_type": "markdown",
   "id": "2aa26083",
   "metadata": {},
   "source": [
    "# Plotting the graph"
   ]
  },
  {
   "cell_type": "code",
   "execution_count": 7,
   "id": "7a3d17b8",
   "metadata": {},
   "outputs": [
    {
     "data": {
      "image/png": "[encoded data removed]",
      "text/plain": [
       "<Figure size 640x480 with 1 Axes>"
      ]
     },
     "metadata": {},
     "output_type": "display_data"
    }
   ],
   "source": [
    "import matplotlib.pyplot as plt\n",
    "import pandas as pd\n",
    "graph = {'Slope': slope_arr, 'Error': error_arr}\n",
    "df = pd.DataFrame(graph)\n",
    "df.plot(kind = 'scatter', x = 'Slope', y = 'Error')\n",
    "plt.show()"
   ]
  }
 ],
 "metadata": {
  "kernelspec": {
   "display_name": "Python 3 (ipykernel)",
   "language": "python",
   "name": "python3"
  },
  "language_info": {
   "codemirror_mode": {
    "name": "ipython",
    "version": 3
   },
   "file_extension": ".py",
   "mimetype": "text/x-python",
   "name": "python",
   "nbconvert_exporter": "python",
   "pygments_lexer": "ipython3",
   "version": "3.10.2"
  }
 },
 "nbformat": 4,
 "nbformat_minor": 5
}
